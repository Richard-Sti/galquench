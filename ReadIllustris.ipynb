{
 "cells": [
  {
   "cell_type": "code",
   "execution_count": 1,
   "metadata": {
    "ExecuteTime": {
     "end_time": "2022-02-04T21:15:50.308624Z",
     "start_time": "2022-02-04T21:15:38.738085Z"
    }
   },
   "outputs": [],
   "source": [
    "import numpy as np\n",
    "import pandas as pd\n",
    "import h5py\n",
    "\n",
    "import matplotlib.pyplot as plt\n",
    "\n",
    "from tqdm import tqdm\n",
    "from copy import deepcopy\n",
    "from joblib import Parallel, delayed\n",
    "\n",
    "%load_ext autoreload\n",
    "%autoreload 2\n",
    "\n",
    "from galquench.utils import *\n"
   ]
  },
  {
   "cell_type": "code",
   "execution_count": 2,
   "metadata": {},
   "outputs": [],
   "source": [
    "folder = \"/Users/richard/Projects/galquench/data/tng100/\"\n",
    "\n",
    "\n",
    "subhalos_file = {\"basePath\": folder + \"groupcats\",\n",
    "                 \"snapNum\": 99,\n",
    "                 \"fields\": [\"SubhaloMassType\", \"SubhaloStellarPhotometricsRad\"]}\n",
    "\n",
    "supplementary_files = [\n",
    "    {\"file\" : folder + \"star_formation_rates.hdf5\",\n",
    "     \"subfindID\": \"SubfindID\",\n",
    "     \"snapshot_number\": 99,\n",
    "     \"keys\": [\"SFR_MsunPerYrs_in_all_1000Myrs\"]},\n",
    "    {\"file\" : folder + \"hih2_galaxy_099.hdf5\",\n",
    "     \"subfindID\": \"id_subhalo\",\n",
    "     \"keys\": [\"m_neutral_H\"]}\n",
    "    ]"
   ]
  },
  {
   "cell_type": "code",
   "execution_count": 10,
   "metadata": {},
   "outputs": [],
   "source": [
    "subhalos = loadSubhalos(**subhalos_file)\n",
    "supplementary_cats = [None] * len(supplementary_files)\n",
    "for i, f in enumerate(supplementary_files):\n",
    "    supplementary_cats[i] = read_supplementary(**f)\n"
   ]
  },
  {
   "cell_type": "code",
   "execution_count": 11,
   "metadata": {},
   "outputs": [],
   "source": [
    "column_mapping = {\"SubhaloMassType\": (1, 4)}\n",
    "\n",
    "for cat in [subhalos] + supplementary_cats:\n",
    "    unpack_catalog_columns(cat, column_mapping)"
   ]
  },
  {
   "cell_type": "code",
   "execution_count": 12,
   "metadata": {},
   "outputs": [],
   "source": [
    "match_subfind(supplementary_cats, subhalos[\"count\"])\n",
    "arr = merge_subhalos_with_supplementary(subhalos, supplementary_cats)\n"
   ]
  },
  {
   "cell_type": "code",
   "execution_count": null,
   "metadata": {},
   "outputs": [],
   "source": []
  },
  {
   "cell_type": "code",
   "execution_count": null,
   "metadata": {},
   "outputs": [],
   "source": []
  },
  {
   "cell_type": "code",
   "execution_count": 60,
   "metadata": {},
   "outputs": [
    {
     "data": {
      "text/plain": [
       "{'subfindID': array([      0,       1,       2, ..., 1036877, 1057646, 1189263]),\n",
       " 'SpecificAngMom': array([8029.7563  , 1019.8987  , 3793.828   , ...,   12.561851,\n",
       "          19.321045,   11.684096], dtype=float32)}"
      ]
     },
     "execution_count": 60,
     "metadata": {},
     "output_type": "execute_result"
    }
   ],
   "source": [
    "path = '/Users/richard/Projects/galquench/data/tng100/stellar_circs.hdf5'\n",
    "\n",
    "X = read_supplementary(path, \"SubfindID\", keys=\"SpecificAngMom\", snapshot_number=99)\n",
    "X"
   ]
  },
  {
   "cell_type": "code",
   "execution_count": 59,
   "metadata": {},
   "outputs": [
    {
     "data": {
      "text/plain": [
       "{'subfindID': array([    10,     12,     16, ..., 590461, 599631, 609986]),\n",
       " 'Header': <HDF5 group \"/Header\" (0 members)>,\n",
       " 'class1_1re': <HDF5 group \"/class1_1re\" (8 members)>,\n",
       " 'class1_3re': <HDF5 group \"/class1_3re\" (8 members)>,\n",
       " 'class1_allstars': <HDF5 group \"/class1_allstars\" (8 members)>,\n",
       " 'class2_1re': <HDF5 group \"/class2_1re\" (8 members)>,\n",
       " 'class2_3re': <HDF5 group \"/class2_3re\" (8 members)>,\n",
       " 'class2_allstars': <HDF5 group \"/class2_allstars\" (8 members)>}"
      ]
     },
     "execution_count": 59,
     "metadata": {},
     "output_type": "execute_result"
    }
   ],
   "source": [
    "path = '/Users/richard/Projects/galquench/data/tng100/kinematic_decomposition_099.hdf5'\n",
    "\n",
    "X = read_supplementary(path, \"SubhaloID\")\n",
    "X"
   ]
  },
  {
   "cell_type": "code",
   "execution_count": 54,
   "metadata": {},
   "outputs": [
    {
     "data": {
      "text/plain": [
       "{'subfindID': array([    10,     12,     16, ..., 590461, 599631, 609986]),\n",
       " 'Header': array([], dtype=float64),\n",
       " 'class1_1re': array(['Bulge', 'ColdDisk', 'Disks', 'DiskyBulge', 'Halo', 'Spheroids',\n",
       "        'StellarMass', 'WarmDisk'], dtype='<U11'),\n",
       " 'class1_3re': array(['Bulge', 'ColdDisk', 'Disks', 'DiskyBulge', 'Halo', 'Spheroids',\n",
       "        'StellarMass', 'WarmDisk'], dtype='<U11'),\n",
       " 'class1_allstars': array(['Bulge', 'ColdDisk', 'Disks', 'DiskyBulge', 'Halo', 'Spheroids',\n",
       "        'StellarMass', 'WarmDisk'], dtype='<U11'),\n",
       " 'class2_1re': array(['Bulge', 'ColdDisk', 'Disks', 'DiskyBulge', 'Halo', 'Spheroids',\n",
       "        'StellarMass', 'WarmDisk'], dtype='<U11'),\n",
       " 'class2_3re': array(['Bulge', 'ColdDisk', 'Disks', 'DiskyBulge', 'Halo', 'Spheroids',\n",
       "        'StellarMass', 'WarmDisk'], dtype='<U11'),\n",
       " 'class2_allstars': array(['Bulge', 'ColdDisk', 'Disks', 'DiskyBulge', 'Halo', 'Spheroids',\n",
       "        'StellarMass', 'WarmDisk'], dtype='<U11')}"
      ]
     },
     "execution_count": 54,
     "metadata": {},
     "output_type": "execute_result"
    }
   ],
   "source": [
    "X"
   ]
  },
  {
   "cell_type": "code",
   "execution_count": 52,
   "metadata": {},
   "outputs": [
    {
     "data": {
      "text/plain": [
       "<KeysViewHDF5 ['Header', 'SubhaloID', 'class1_1re', 'class1_3re', 'class1_allstars', 'class2_1re', 'class2_3re', 'class2_allstars']>"
      ]
     },
     "execution_count": 52,
     "metadata": {},
     "output_type": "execute_result"
    }
   ],
   "source": [
    "X = h5py.File('/Users/richard/Projects/galquench/data/tng100/kinematic_decomposition_099.hdf5', 'r')\n",
    "X.keys()"
   ]
  },
  {
   "cell_type": "code",
   "execution_count": null,
   "metadata": {},
   "outputs": [],
   "source": []
  },
  {
   "cell_type": "code",
   "execution_count": 44,
   "metadata": {},
   "outputs": [
    {
     "data": {
      "text/plain": [
       "h5py._hl.files.File"
      ]
     },
     "execution_count": 44,
     "metadata": {},
     "output_type": "execute_result"
    }
   ],
   "source": [
    "type(X)"
   ]
  },
  {
   "cell_type": "code",
   "execution_count": 38,
   "metadata": {},
   "outputs": [
    {
     "data": {
      "text/plain": [
       "<KeysViewHDF5 ['Header', 'SubhaloID', 'class1_1re', 'class1_3re', 'class1_allstars', 'class2_1re', 'class2_3re', 'class2_allstars']>"
      ]
     },
     "execution_count": 38,
     "metadata": {},
     "output_type": "execute_result"
    }
   ],
   "source": [
    "X.keys()"
   ]
  },
  {
   "cell_type": "code",
   "execution_count": 41,
   "metadata": {},
   "outputs": [
    {
     "data": {
      "text/plain": [
       "<KeysViewHDF5 ['Bulge', 'ColdDisk', 'Disks', 'DiskyBulge', 'Halo', 'Spheroids', 'StellarMass', 'WarmDisk']>"
      ]
     },
     "execution_count": 41,
     "metadata": {},
     "output_type": "execute_result"
    }
   ],
   "source": [
    "X[\"class1_3re\"].keys()"
   ]
  },
  {
   "cell_type": "code",
   "execution_count": 30,
   "metadata": {},
   "outputs": [
    {
     "data": {
      "text/plain": [
       "dtype('int64')"
      ]
     },
     "execution_count": 30,
     "metadata": {},
     "output_type": "execute_result"
    }
   ],
   "source": [
    "X[\"subfindID\"].dtype"
   ]
  },
  {
   "cell_type": "code",
   "execution_count": 14,
   "metadata": {},
   "outputs": [
    {
     "ename": "KeyError",
     "evalue": "'id_subhalo'",
     "output_type": "error",
     "traceback": [
      "\u001b[0;31m---------------------------------------------------------------------------\u001b[0m",
      "\u001b[0;31mKeyError\u001b[0m                                  Traceback (most recent call last)",
      "\u001b[1;32m/Users/richard/Projects/galquench/ReadIllustris.ipynb Cell 8'\u001b[0m in \u001b[0;36m<cell line: 1>\u001b[0;34m()\u001b[0m\n\u001b[0;32m----> <a href='vscode-notebook-cell:/Users/richard/Projects/galquench/ReadIllustris.ipynb#ch0000007?line=0'>1</a>\u001b[0m X[\u001b[39m\"\u001b[39;49m\u001b[39mid_subhalo\u001b[39;49m\u001b[39m\"\u001b[39;49m]\n",
      "\u001b[0;31mKeyError\u001b[0m: 'id_subhalo'"
     ]
    }
   ],
   "source": [
    "X[\"id_subhalo\"]"
   ]
  },
  {
   "cell_type": "code",
   "execution_count": 5,
   "metadata": {
    "ExecuteTime": {
     "end_time": "2022-02-04T22:01:01.630027Z",
     "start_time": "2022-02-04T21:57:25.076525Z"
    }
   },
   "outputs": [],
   "source": [
    "halos = parse_subhalos0(subhalos0, halo_legend)\n",
    "gals = parse_subhalos0(subhalos0, galaxy_legend)\n",
    "\n",
    "# stellar_circs = h5py.File('../data/IllustrisTNG/stellar_circs.hdf5', 'r')\n",
    "\n",
    "N = halos.size\n",
    "\n",
    "out = {}\n",
    "for par in halos.dtype.names:\n",
    "    out.update({'H_' + par: halos[par]})\n",
    "\n",
    "for par in gals.dtype.names:\n",
    "    out.update({'G_' + par: gals[par]})    \n",
    "\n",
    "    \n",
    "concentration = pd.read_hdf('../data/IllustrisTNG/christmas_data/TNG100-1_GalHalo_Subfind_snap99.hdf5')\n",
    "concentration[concentration['EndState'].values != 'CHeck100DM'] # Take only ones that have converged\n",
    "# From concentration we want\n",
    "for par in ['Central', 'Rsubfind_DM', 'Msubfind_DM', 'Vmax', 'cvir', 's_DM', 'q_DM', 'Spin_Bullock', 'Mvir_host', 'r_s_fit']:\n",
    "    x = np.full(N, np.nan)\n",
    "    x[concentration['SubhaloID'].values] = concentration[par]\n",
    "    out.update({'H_' + par: x})\n",
    "    \n",
    "out['H_Rsubfind'] = out.pop('H_Rsubfind_DM')\n",
    "out['H_Msubfind'] = out.pop('H_Msubfind_DM')\n",
    "\n",
    "for par in ['Mgas', 'Mstar', 'Rhalf_star', 's_star', 'q_star', 'Spin_Bullock_star']:\n",
    "    x = np.full(N, np.nan)\n",
    "    x[concentration['SubhaloID'].values] = concentration[par]\n",
    "    out.update({'G_' + par: x})\n",
    "    \n",
    "concentration = pd.read_hdf('../data/IllustrisTNG/christmas_data/TNG100-1_GalHalo_snap99.hdf5')\n",
    "concentration[concentration['EndState'].values != 'CHeck100DM'] # Take only ones that have converged\n",
    "# From concentration we want\n",
    "for par in ['frac_rho_vir', 'Rvir']:\n",
    "    x = np.full(N, np.nan)\n",
    "    x[concentration['SubhaloID'].values] = concentration[par]\n",
    "    out.update({'H_' + par: x})\n",
    "    \n",
    "\n",
    "level = out.pop('H_Central')\n",
    "level[level == 0] = 2 # Make 0 to 2 for subhals\n",
    "out.update({'H_level': level})\n",
    "\n",
    "# x = np.full(N, np.nan)\n",
    "# x[stellar_circs['Snapshot_99']['SubfindID'][:]] = stellar_circs['Snapshot_99']['SpecificAngMom']\n",
    "# out.update({'G_' + 'SpecificAngMom': x})\n",
    "\n",
    "# x = np.full(N, np.nan)\n",
    "# x[stellar_circs['Snapshot_99']['SubfindID'][:]] = stellar_circs['Snapshot_99']['MassTensorEigenVals'][:,0]\n",
    "# out.update({'G_' + 'sha': x})\n",
    "\n",
    "# x = np.full(N, np.nan)\n",
    "# x[stellar_circs['Snapshot_99']['SubfindID'][:]] = stellar_circs['Snapshot_99']['MassTensorEigenVals'][:, 1]\n",
    "# out.update({'G_' + 'shb': x})\n",
    "\n",
    "# x = np.full(N, np.nan)\n",
    "# x[stellar_circs['Snapshot_99']['SubfindID'][:]] = stellar_circs['Snapshot_99']['MassTensorEigenVals'][:, 2]\n",
    "# out.update({'G_' + 'shc': x})\n",
    "    \n",
    "# out.update({'G_ca_ratio': out['G_shc'] / out['G_sha']})\n",
    "# out.update({'G_ba_ratio': out['G_shb'] / out['G_sha']})\n",
    "\n",
    "\n",
    "neutral_hydrogen = h5py.File('../data/IllustrisTNG/hih2_galaxy_099.hdf5')\n",
    "x = np.full(N, np.nan)\n",
    "x[neutral_hydrogen['id_subhalo'][:].astype(int)] = neutral_hydrogen['m_neutral_H']\n",
    "out.update({'G_' + 'm_neutral_H': x})\n",
    "\n",
    "sfrs = h5py.File('../data/IllustrisTNG/star_formation_rates.hdf5')\n",
    "x = np.full(N, np.nan)\n",
    "x[sfrs['Snapshot_99']['SubfindID'][:]] = sfrs['Snapshot_99']['SFR_MsunPerYrs_in_all_200Myrs']\n",
    "out.update({'G_' + 'SFR_MsunPerYrs_in_all_200Myrs': x})\n",
    "\n",
    "\n",
    "# out.update({'G_Reff_r': h5py.File('../data/IllustrisTNG/stellar_sizes_099.hdf5')['Rhalf'][0, -3, :]})\n",
    "\n",
    "\n",
    "# level = out.pop('H_Central')\n",
    "# level[level == 0] = 2\n",
    "# out.update({'H_level': level})\n",
    "\n",
    "\n",
    "# pc = 30856780000000000\n",
    "# vvir = np.sqrt(6.674e-11 * 10**(out['H_Mvir']) * 1.989e30 / (out['H_Rvir']* 1e3 * pc))*1e-3\n",
    "# out.update({'tot_spin': np.sqrt(out['H_spinx']**2 + out['H_spiny']**2 + out['H_spinz']**2) / vvir / out['H_Rvir']})\n",
    "\n",
    "# N = halos.size\n",
    "\n",
    "# out.update({'G_mgal_and_mgas': out['G_mgal'] + out['G_mgas']})\n",
    "# out.update({'G_mgal_and_m_neutral_H': out['G_mgal'] + out['G_m_neutral_H']})\n",
    "\n",
    "cat = np.full(N, np.nan, dtype={'names': [key for key in out.keys()],\n",
    "                                'formats': [type(val[0]) for val in out.values()]})\n",
    "\n",
    "\n",
    "\n",
    "\n",
    "\n",
    "for key in out.keys():\n",
    "    cat[key] = out[key]\n",
    "    \n",
    "del out, x, halos, gals"
   ]
  },
  {
   "cell_type": "code",
   "execution_count": null,
   "metadata": {
    "ExecuteTime": {
     "end_time": "2022-02-03T19:10:15.649571Z",
     "start_time": "2022-02-03T19:09:57.271Z"
    }
   },
   "outputs": [],
   "source": [
    "m = cat['H_flag']\n",
    "\n",
    "m = m & (~np.isnan(cat['H_cvir']))\n",
    "m = m & (cat['H_Msubfind'] > 10) & (cat['G_Mstar'] > 6)\n",
    "m = m & (cat['G_Mgas'] > 0) & (cat['G_m_neutral_H'] > 0)\n",
    "m = m & (cat['G_sfr_instant'] > 0)\n",
    "\n",
    "cat_final = cat[m]\n",
    "\n",
    "cat_final['H_Msubfind'] = 10**cat_final['H_Msubfind']\n",
    "cat_final['H_Mvir_host'] = 10**cat_final['H_Mvir_host']\n",
    "cat_final['G_Mgas'] = 10**cat_final['G_Mgas']\n",
    "cat_final['G_Mstar'] = 10**cat_final['G_Mstar']"
   ]
  },
  {
   "cell_type": "code",
   "execution_count": null,
   "metadata": {
    "ExecuteTime": {
     "end_time": "2022-02-03T19:10:15.650665Z",
     "start_time": "2022-02-03T19:09:58.734Z"
    }
   },
   "outputs": [],
   "source": [
    "np.save('../data/IllustrisTNG/TNGmatch.npy', cat_final)"
   ]
  },
  {
   "cell_type": "code",
   "execution_count": null,
   "metadata": {
    "ExecuteTime": {
     "end_time": "2021-12-07T14:44:19.845382Z",
     "start_time": "2021-12-07T14:44:18.243380Z"
    }
   },
   "outputs": [],
   "source": [
    "cat_final = np.load('../data/IllustrisTNG/TNGmatch.npy')\n",
    "\n",
    "HAGN = np.load('../data/HAGN/extracted/matched_objects.npy')"
   ]
  },
  {
   "cell_type": "markdown",
   "metadata": {},
   "source": [
    "G_Rhalfmass: Comoving radius containing half of the mass of this Subhalo split by Type (SubhaloMassType).\n",
    "\n",
    "G_Reff: Radius at which the surface brightness profile (computed from all member stellar particles) drops below the limit of 20.7 mag arcsec−2−2 in the K band (in comoving units).\n",
    "\n",
    "G_Reff_r : half-light radiur in the r-band "
   ]
  },
  {
   "cell_type": "code",
   "execution_count": null,
   "metadata": {},
   "outputs": [],
   "source": []
  },
  {
   "cell_type": "code",
   "execution_count": null,
   "metadata": {},
   "outputs": [],
   "source": []
  },
  {
   "cell_type": "markdown",
   "metadata": {},
   "source": [
    "# Reff vs M*"
   ]
  },
  {
   "cell_type": "code",
   "execution_count": null,
   "metadata": {
    "ExecuteTime": {
     "end_time": "2021-12-07T14:43:46.584896Z",
     "start_time": "2021-12-07T14:43:46.537889Z"
    },
    "scrolled": false
   },
   "outputs": [],
   "source": [
    "level = 1\n",
    "\n",
    "m = (cat_final['H_level'] == level) # & (cat_final['G_m_neutral_H'] > 10**7) \n",
    "m = m & (cat_final['G_Rhalfmass'] > 0)\n",
    "m = m & (cat_final['H_Mvir'] > 10**10)\n",
    "m = m & (cat_final['G_m_neutral_H'] > 0)\n",
    "\n",
    "m2 = HAGN['H_level'] == level\n",
    "\n",
    "\n",
    "plt.figure()\n",
    "\n",
    "\n",
    "# plt.scatter(cat_final['H_Mvir'][m], cat_final['G_mgal_and_mgas'][m], s=1, label='TNG')\n",
    "plt.scatter(cat_final['H_Mvir'][m], cat_final['G_mgal_and_m_neutral_H'][m], s=1, label='TNG')\n",
    "# plt.scatter(cat_final['H_Mvir'][m], cat_final['G_mgal'][m], s=1, label='TNG')\n",
    "# plt.scatter(cat_final['H_Mvir'][m], cat_final['G_mgas'][m], s=1, label='TNG')\n",
    "# plt.scatter(cat_final['G_mgal'][m], cat_final['G_Reff'][m]/1e5, s=1, label='TNG')\n",
    "# plt.scatter(HAGN['H_mvir'][m2], HAGN['G_Reff'][m2], s=1, label='HAGN')\n",
    "\n",
    "\n",
    "plt.xlabel(\"Mgal\")\n",
    "plt.ylabel(\"Reff\")\n",
    "\n",
    "plt.legend()\n",
    "plt.yscale('log')\n",
    "plt.xscale('log')\n",
    "\n",
    "plt.show()"
   ]
  },
  {
   "cell_type": "markdown",
   "metadata": {},
   "source": [
    "# Reff_r vs Mgal"
   ]
  },
  {
   "cell_type": "code",
   "execution_count": null,
   "metadata": {
    "ExecuteTime": {
     "end_time": "2021-12-06T11:12:31.434504Z",
     "start_time": "2021-12-06T11:12:30.352648Z"
    }
   },
   "outputs": [],
   "source": [
    "level = 1\n",
    "\n",
    "m = (cat_final['H_level'] == level) # & (cat_final['G_m_neutral_H'] > 10**7) \n",
    "# m = m & (cat_final['G_Reff_r'] > 0)\n",
    "m = m & (cat_final['H_Mvir'] > 10**10)\n",
    "\n",
    "m2 = HAGN['H_level'] == level\n",
    "\n",
    "\n",
    "plt.figure()\n",
    "\n",
    "\n",
    "plt.scatter(HAGN['H_mvir'][m2], HAGN['G_Reff'][m2], s=1, label='HAGN')\n",
    "plt.scatter(cat_final['H_Mvir'][m], cat_final['G_Rhalfmass'][m]/1e4, s=1, label='TNG')\n",
    "\n",
    "\n",
    "\n",
    "plt.xlabel(\"Mvir\")\n",
    "plt.ylabel(\"Reff\")\n",
    "\n",
    "plt.legend()\n",
    "plt.yscale('log')\n",
    "plt.xscale('log')\n",
    "\n",
    "plt.savefig('../plots/Reff.png', dpi=240)\n",
    "plt.show()"
   ]
  },
  {
   "cell_type": "markdown",
   "metadata": {
    "ExecuteTime": {
     "end_time": "2021-12-02T15:18:15.022770Z",
     "start_time": "2021-12-02T15:18:15.020897Z"
    }
   },
   "source": [
    "# M* vs Mvir"
   ]
  },
  {
   "cell_type": "code",
   "execution_count": null,
   "metadata": {
    "ExecuteTime": {
     "end_time": "2021-12-02T16:49:57.872361Z",
     "start_time": "2021-12-02T16:49:57.809488Z"
    },
    "scrolled": false
   },
   "outputs": [],
   "source": [
    "level = 1\n",
    "\n",
    "m = (cat_final['H_level'] == level) # & (cat_final['G_m_neutral_H'] > 10**7) \n",
    "m = m & (cat_final['G_mgal'] > 0)\n",
    "m = m & (cat_final['H_Mvir'] > 10**10)\n",
    "\n",
    "m2 = HAGN['H_level'] == level\n",
    "\n",
    "\n",
    "plt.figure()\n",
    "\n",
    "\n",
    "\n",
    "plt.scatter(HAGN['H_mvir'][m2], HAGN['G_mgal'][m2], s=1, label='HAGN')\n",
    "plt.scatter(cat_final['H_Mvir'][m], cat_final['G_mgal'][m], s=1, label='TNG')\n",
    "\n",
    "\n",
    "plt.xlabel(\"Mvir\")\n",
    "plt.ylabel(\"Mgal\")\n",
    "\n",
    "plt.legend()\n",
    "plt.yscale('log')\n",
    "plt.xscale('log')\n",
    "\n",
    "plt.show()"
   ]
  },
  {
   "cell_type": "markdown",
   "metadata": {},
   "source": [
    "# HAGN spins vs size"
   ]
  },
  {
   "cell_type": "code",
   "execution_count": null,
   "metadata": {
    "ExecuteTime": {
     "end_time": "2021-12-02T16:59:06.562746Z",
     "start_time": "2021-12-02T16:59:06.503167Z"
    }
   },
   "outputs": [],
   "source": [
    "level = 2\n",
    "\n",
    "m = (cat_final['H_level'] == level) # & (cat_final['G_m_neutral_H'] > 10**7) \n",
    "m = m & (cat_final['G_Reff'] > 0)\n",
    "m = m & (cat_final['H_Mvir'] > 10**10) #& (cat_final['H_Mvir'] < 10**12)\n",
    "\n",
    "m2 = HAGN['H_level'] == level\n",
    "\n",
    "\n",
    "plt.figure()\n",
    "\n",
    "\n",
    "\n",
    "# plt.scatter(HAGN['H_spin'][m2], HAGN['G_Reff'][m2]/HAGN['G_rvir'][m2], s=1, label='HAGN')\n",
    "plt.scatter(cat_final['H_Msubfind'][m], cat_final['H_Rvir'][m], s=1, label='HAGN')\n",
    "# plt.scatter(cat_final['H_Spin_Bullock'][m], cat_final['G_Rhalfmass'][m] / cat_final['H_Rvir'][m], s=1, label='TNG')\n",
    "\n",
    "\n",
    "plt.xlabel(\"halo spin\")\n",
    "plt.ylabel(\"Reff/rvir\")\n",
    "\n",
    "plt.legend()\n",
    "plt.yscale('log')\n",
    "plt.xscale('log')\n",
    "\n",
    "plt.show()"
   ]
  },
  {
   "cell_type": "markdown",
   "metadata": {},
   "source": [
    "# Reff_r spins"
   ]
  },
  {
   "cell_type": "code",
   "execution_count": null,
   "metadata": {
    "ExecuteTime": {
     "end_time": "2021-12-02T18:21:30.269898Z",
     "start_time": "2021-12-02T18:21:30.198622Z"
    }
   },
   "outputs": [],
   "source": [
    "level = 1\n",
    "\n",
    "m = (cat_final['H_level'] == level) # & (cat_final['G_m_neutral_H'] > 10**7) \n",
    "m = m & (cat_final['G_Rhalfmass'] > 0)\n",
    "m = m & (cat_final['H_Mvir'] > 10**10)\n",
    "\n",
    "m2 = HAGN['H_level'] == level\n",
    "\n",
    "\n",
    "plt.figure()\n",
    "\n",
    "\n",
    "\n",
    "# plt.scatter(HAGN['H_spin'][m2], HAGN['G_Reff'][m2]/HAGN['G_rvir'][m2], s=1, label='HAGN')\n",
    "plt.scatter(cat_final['H_Spin_Bullock'][m], cat_final['G_Rhalfmass'][m] / cat_final['H_Rvir'][m], s=1, label='TNG')\n",
    "\n",
    "\n",
    "plt.xlabel(\"halo spin\")\n",
    "plt.ylabel(\"Reff/rvir\")\n",
    "\n",
    "plt.legend()\n",
    "plt.yscale('log')\n",
    "plt.xscale('log')\n",
    "\n",
    "plt.show()"
   ]
  },
  {
   "cell_type": "code",
   "execution_count": null,
   "metadata": {},
   "outputs": [],
   "source": [
    "HAGN['H_ba_ratio']"
   ]
  },
  {
   "cell_type": "code",
   "execution_count": null,
   "metadata": {
    "ExecuteTime": {
     "end_time": "2021-12-03T00:48:47.503402Z",
     "start_time": "2021-12-03T00:48:47.449666Z"
    }
   },
   "outputs": [],
   "source": [
    "m = cat_final['H_level'] == 2\n",
    "m2 = HAGN['H_level'] == 1\n",
    "\n",
    "\n",
    "plt.figure()\n",
    "\n",
    "# plt.scatter(HAGN['H_ca_ratio'][m2], HAGN['H_ba_ratio'][m2], s=0.5, label='HAGN', rasterized=True)\n",
    "plt.scatter(cat_final['H_Mvir'][m], cat_final['H_cvir'][m], s=0.5, label='TNG', rasterized=True)\n",
    "\n",
    "# plt.xlabel('c/a')\n",
    "# plt.ylabel('b/a')\n",
    "\n",
    "plt.xscale('log')\n",
    "plt.yscale('log')\n",
    "\n",
    "plt.legend()\n",
    "# plt.savefig('../plots/ax_ratios.pdf')\n",
    "\n",
    "plt.show()"
   ]
  },
  {
   "cell_type": "code",
   "execution_count": null,
   "metadata": {},
   "outputs": [],
   "source": []
  },
  {
   "cell_type": "code",
   "execution_count": null,
   "metadata": {
    "ExecuteTime": {
     "end_time": "2021-12-02T23:20:59.245560Z",
     "start_time": "2021-12-02T23:20:59.241270Z"
    }
   },
   "outputs": [],
   "source": [
    "HAGN.dtype.names"
   ]
  },
  {
   "cell_type": "code",
   "execution_count": null,
   "metadata": {
    "ExecuteTime": {
     "end_time": "2021-12-07T15:20:26.127215Z",
     "start_time": "2021-12-07T15:20:26.085512Z"
    }
   },
   "outputs": [],
   "source": [
    "np.percentile(np.log10(cat_final['G_mgas'][m]), 16)"
   ]
  },
  {
   "cell_type": "code",
   "execution_count": null,
   "metadata": {
    "ExecuteTime": {
     "end_time": "2021-12-07T20:34:43.834880Z",
     "start_time": "2021-12-07T20:34:43.346136Z"
    }
   },
   "outputs": [],
   "source": [
    "m = cat_final['H_level'] == 2\n",
    "\n",
    "# m = (cat_final['H_Mvir'] > 10**11.75) & (cat_final['H_Mvir'] <= 10**12.25)\n",
    "\n",
    "plt.figure()\n",
    "\n",
    "plt.scatter(cat_final['H_Mvir'][m], cat_final['H_Rvir'][m], s=1)\n",
    "# plt.hist(np.log10(cat_final['G_mgas'][m]), bins='auto')\n",
    "\n",
    "\n",
    "# m2 = (HAGN['H_level'] == 1)# & (HAGN['G_mstarform'] > 0)\n",
    "\n",
    "# plt.scatter(HAGN['H_mvir'][m2], HAGN['G_Reff'][m2]*5000, s=1)\n",
    "\n",
    "plt.yscale('log')\n",
    "plt.xscale('log')\n",
    "plt.title('Satellites only')\n",
    "\n",
    "plt.xlabel('Mvir')\n",
    "plt.ylabel('Rvir')\n",
    "\n",
    "plt.savefig('Rvir.png', dpi=300)\n",
    "\n",
    "# \n",
    "plt.show()"
   ]
  },
  {
   "cell_type": "code",
   "execution_count": null,
   "metadata": {
    "ExecuteTime": {
     "end_time": "2021-12-02T10:19:06.669288Z",
     "start_time": "2021-12-02T10:19:05.672508Z"
    }
   },
   "outputs": [],
   "source": [
    "HAGN = np.load('../data/HAGN/extracted/matched_objects.npy')\n"
   ]
  },
  {
   "cell_type": "code",
   "execution_count": null,
   "metadata": {
    "ExecuteTime": {
     "end_time": "2021-12-02T10:28:43.623034Z",
     "start_time": "2021-12-02T10:28:43.619707Z"
    }
   },
   "outputs": [],
   "source": [
    "m = HAGN['H_level'] == 2"
   ]
  },
  {
   "cell_type": "code",
   "execution_count": null,
   "metadata": {
    "ExecuteTime": {
     "end_time": "2021-12-02T10:28:44.429070Z",
     "start_time": "2021-12-02T10:28:44.394579Z"
    }
   },
   "outputs": [],
   "source": [
    "plt.figure()\n",
    "# plt.scatter(HAGN['H_spin'][m], HAGN['G_Reff'][m], s=1)\n",
    "plt.scatter(HAGN['H_mvir'][m], HAGN['G_Reff'][m], s=1)\n",
    "\n",
    "plt.yscale('log')\n",
    "plt.xscale('log')\n",
    "plt.show()"
   ]
  },
  {
   "cell_type": "code",
   "execution_count": null,
   "metadata": {
    "ExecuteTime": {
     "end_time": "2021-12-02T10:21:59.626495Z",
     "start_time": "2021-12-02T10:21:59.615353Z"
    }
   },
   "outputs": [],
   "source": [
    "HAGN"
   ]
  },
  {
   "cell_type": "code",
   "execution_count": null,
   "metadata": {},
   "outputs": [],
   "source": []
  }
 ],
 "metadata": {
  "kernelspec": {
   "display_name": "Python 3",
   "language": "python",
   "name": "python3"
  },
  "language_info": {
   "codemirror_mode": {
    "name": "ipython",
    "version": 3
   },
   "file_extension": ".py",
   "mimetype": "text/x-python",
   "name": "python",
   "nbconvert_exporter": "python",
   "pygments_lexer": "ipython3",
   "version": "3.9.6"
  }
 },
 "nbformat": 4,
 "nbformat_minor": 2
}
